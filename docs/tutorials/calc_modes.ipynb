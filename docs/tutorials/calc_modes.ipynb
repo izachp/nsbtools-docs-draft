{
 "cells": [
  {
   "cell_type": "markdown",
   "id": "fdfa0fb3",
   "metadata": {},
   "source": [
    "# Dummy tutorial"
   ]
  },
  {
   "cell_type": "code",
   "execution_count": null,
   "id": "8ee76024",
   "metadata": {},
   "outputs": [],
   "source": [
    "import numpy as np\n",
    "from nsbtools.eigen import EigenSolver\n",
    "\n",
    "print(np.random.rand(3, 4))"
   ]
  }
 ],
 "metadata": {
  "kernelspec": {
   "display_name": "nsbtools (3.11.0)",
   "language": "python",
   "name": "python3"
  },
  "language_info": {
   "name": "python",
   "version": "3.12.10"
  }
 },
 "nbformat": 4,
 "nbformat_minor": 5
}
