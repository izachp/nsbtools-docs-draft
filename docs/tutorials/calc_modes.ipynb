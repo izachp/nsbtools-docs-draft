{
 "cells": [
  {
   "cell_type": "code",
   "execution_count": null,
   "id": "8ee76024",
   "metadata": {},
   "outputs": [],
   "source": [
    "# THIS IS A DUMMY SCRIPT\n",
    "\n",
    "import numpy as np\n",
    "\n",
    "print(np.random.rand(3, 4))"
   ]
  }
 ],
 "metadata": {
  "kernelspec": {
   "display_name": "nsbtools (3.11.0)",
   "language": "python",
   "name": "python3"
  },
  "language_info": {
   "name": "python",
   "version": "3.12.10"
  }
 },
 "nbformat": 4,
 "nbformat_minor": 5
}
