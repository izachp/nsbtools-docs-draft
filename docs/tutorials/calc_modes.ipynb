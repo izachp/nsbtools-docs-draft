{
 "cells": [
  {
   "cell_type": "markdown",
   "id": "fdfa0fb3",
   "metadata": {},
   "source": [
    "# Dummy tutorial"
   ]
  },
  {
   "cell_type": "code",
   "execution_count": null,
   "id": "8ee76024",
   "metadata": {},
   "outputs": [],
   "source": [
    "import numpy as np\n",
    "import importlib\n",
    "from nsbtools.eigen import EigenSolver\n",
    "from nsbtools.plotting import plot_brain\n",
    "from nsbtools.utils import unmask\n",
    "\n",
    "# Get path to human left hemisphere surface from nsbtools data\n",
    "data_dir = importlib.resources.files('nsbtools.data')\n",
    "lh_surf = data_dir / 'sp-human_tpl-fsLR_den-32k_hemi-L_midthickness.surf.gii'\n",
    "\n",
    "# Initialize solver with surface\n",
    "solver = EigenSolver(lh_surf)"
   ]
  }
 ],
 "metadata": {
  "kernelspec": {
   "display_name": "nsbtools (3.11.0)",
   "language": "python",
   "name": "python3"
  },
  "language_info": {
   "name": "python",
   "version": "3.12.10"
  }
 },
 "nbformat": 4,
 "nbformat_minor": 5
}
