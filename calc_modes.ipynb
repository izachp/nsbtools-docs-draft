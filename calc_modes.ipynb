{
 "cells": [
  {
   "cell_type": "markdown",
   "id": "52477a7f",
   "metadata": {},
   "source": [
    "\n",
    "## Calculate geometric eigenmodes\n",
    "\n",
    "To calculate the geometric eigenmodes of a brain surface using the method outlined in [Pang *et al.* \n",
    " (2023)](https://doi.org/10.1038/s41586-023-06098-1), we will first initialize the solver with a\n",
    " path to a surface file. Since `nsbtools` provides triangular surface meshes for human, macaque, and \n",
    " marmoset cortices, we can provide these as follows:"
   ]
  },
  {
   "cell_type": "code",
   "execution_count": 1,
   "id": "a1ba2620",
   "metadata": {},
   "outputs": [],
   "source": [
    "import numpy as np\n",
    "import importlib\n",
    "from nsbtools.eigen import EigenSolver\n",
    "from nsbtools.plotting import plot_brain\n",
    "from nsbtools.utils import unmask\n",
    "\n",
    "# Get path to human left hemisphere surface from nsbtools data\n",
    "data_dir = importlib.resources.files('nsbtools.data')\n",
    "lh_surf = data_dir / 'sp-human_tpl-fsLR_den-32k_hemi-L_midthickness.surf.gii'\n",
    "\n",
    "# Initialize solver with surface\n",
    "solver = EigenSolver(lh_surf)"
   ]
  },
  {
   "cell_type": "markdown",
   "id": "2150af44",
   "metadata": {
    "vscode": {
     "languageId": "plaintext"
    }
   },
   "source": [
    "Next, we can calculate the eigenmodes by solving the eigenvalue problem of the Laplace-Beltrami\n",
    "operator on the surface mesh:"
   ]
  },
  {
   "cell_type": "code",
   "execution_count": 2,
   "id": "1c60d69b",
   "metadata": {},
   "outputs": [
    {
     "name": "stdout",
     "output_type": "stream",
     "text": [
      "Solver: spsolve (LU decomposition) ...\n"
     ]
    }
   ],
   "source": [
    "solver.solve()"
   ]
  },
  {
   "cell_type": "markdown",
   "id": "ddb4e54d",
   "metadata": {},
   "source": [
    "\n",
    "By default, the solver computes the first 100 eigenmodes and corresponding eigenvalues, which are  \n",
    " then stored in the `emodes` and `evals` attributes. We can visualize the first few modes via the \n",
    " `plotting` module:"
   ]
  },
  {
   "cell_type": "code",
   "execution_count": null,
   "id": "8d48781b",
   "metadata": {},
   "outputs": [],
   "source": [
    "# Get the first 3 eigenmodes\n",
    "modes = solver.emodes[:, :3]\n",
    "\n",
    "# Visualize on the cortical surface\n",
    "plot_brain(lh_surf, modes, labels=['Mode 1', 'Mode 2', 'Mode 3'], cmap='seismic')"
   ]
  },
  {
   "cell_type": "markdown",
   "id": "d97a6e7f",
   "metadata": {},
   "source": [
    "\n",
    "We can see that the modes have been calculated, but incorrectly included the medial wall. To exclude\n",
    " the medial wall, we can either use a surface file that has the medial wall removed, or provide a \n",
    " boolean mask when initializing the solver. The same mask is then provided to our `unmask` function \n",
    " to reintroduce the medial wall for plotting. We can try this now with a marmoset surface:\n"
   ]
  },
  {
   "cell_type": "code",
   "execution_count": null,
   "id": "48554906",
   "metadata": {},
   "outputs": [],
   "source": [
    "\n",
    "# Load medial wall mask\n",
    "marmo_medmask = np.load(data_dir / 'sp-marmoset_space-fsLR_den-10k_hemi-L_desc-medmask.npy').astype(bool)\n",
    "\n",
    "# Initialize solver with marmoset surface and mask\n",
    "marmo_lh_surf = data_dir / 'sp-marmoset_tpl-fsLR_den-10k_hemi-L_midthickness.surf.gii'\n",
    "marmosolver = EigenSolver(marmo_lh_surf, medmask=marmo_medmask)\n",
    "\n",
    "# Get the first 3 eigenmodes\n",
    "marmosolver.solve()\n",
    "marmodes = marmosolver.emodes[:, :3]\n",
    "\n",
    "# Visualize on the cortical surface\n",
    "marmodes_unmasked = unmask(marmodes, marmo_medmask)\n",
    "plot_brain(marmo_lh_surf, marmodes_unmasked, labels=['Mode 1', 'Mode 2', 'Mode 3'], cmap='seismic')"
   ]
  }
 ],
 "metadata": {
  "kernelspec": {
   "display_name": "nsbtools (3.11.0)",
   "language": "python",
   "name": "python3"
  },
  "language_info": {
   "codemirror_mode": {
    "name": "ipython",
    "version": 3
   },
   "file_extension": ".py",
   "mimetype": "text/x-python",
   "name": "python",
   "nbconvert_exporter": "python",
   "pygments_lexer": "ipython3",
   "version": "3.12.10"
  }
 },
 "nbformat": 4,
 "nbformat_minor": 5
}
